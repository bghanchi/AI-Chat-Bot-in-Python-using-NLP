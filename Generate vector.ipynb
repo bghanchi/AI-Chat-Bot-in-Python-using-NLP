{
 "cells": [
  {
   "cell_type": "code",
   "execution_count": 83,
   "metadata": {},
   "outputs": [],
   "source": [
    "import spacy\n",
    "import matplotlib.pyplot as plt\n",
    "import numpy as np\n",
    "import pandas as pd\n",
    "from PIL import Image\n",
    "import random\n",
    "%matplotlib inline\n",
    "random.seed(10)"
   ]
  },
  {
   "cell_type": "code",
   "execution_count": 99,
   "metadata": {},
   "outputs": [],
   "source": [
    "nlp =spacy.load('en')"
   ]
  },
  {
   "cell_type": "code",
   "execution_count": 100,
   "metadata": {},
   "outputs": [],
   "source": [
    "#doc=nlp(\"Cat\")"
   ]
  },
  {
   "cell_type": "code",
   "execution_count": 101,
   "metadata": {},
   "outputs": [],
   "source": [
    "#doc.similarity(nlp('Cat'))"
   ]
  },
  {
   "cell_type": "code",
   "execution_count": 102,
   "metadata": {},
   "outputs": [],
   "source": [
    "#doc=nlp(\"Bharat Kumar Never Give Up\")"
   ]
  },
  {
   "cell_type": "code",
   "execution_count": 146,
   "metadata": {},
   "outputs": [
    {
     "data": {
      "text/plain": [
       "\"\\n    #    nlp =spacy.load('en')\\n    n_sentences = len(sentences)\\n    embedding_dim =nlp.vocab.vectors_length\\n#    print(n_sentences,embedding_dim)\\n    X = np.zeros((n_sentences, 300))\\n    print(X)\\n\\n    #    print(sentences)\\n\\n\""
      ]
     },
     "execution_count": 146,
     "metadata": {},
     "output_type": "execute_result"
    }
   ],
   "source": [
    "#nlp.vocab.vectors_length\n",
    "\n",
    "'''\n",
    "    #    nlp =spacy.load('en')\n",
    "    n_sentences = len(sentences)\n",
    "    embedding_dim =nlp.vocab.vectors_length\n",
    "#    print(n_sentences,embedding_dim)\n",
    "    X = np.zeros((n_sentences, 300))\n",
    "    print(X)\n",
    "\n",
    "    #    print(sentences)\n",
    "\n",
    "'''\n"
   ]
  },
  {
   "cell_type": "code",
   "execution_count": 162,
   "metadata": {},
   "outputs": [],
   "source": [
    "def set_data(sentences):\n",
    "    # Load the spacy model: nlp\n",
    "\n",
    "    # Calculate the length of sentences\n",
    "    n_sentences = len(sentences)\n",
    "    #print(sentences)\n",
    "    \n",
    "    \n",
    "    # Calculate the dimensionality of nlp\n",
    "    embedding_dim =nlp.vocab.vectors_length\n",
    "\n",
    "    \n",
    "    # Initialize the array with zeros: X\n",
    "    X = np.zeros((n_sentences, 300)) \n",
    "    #    print(X)\n",
    "\n",
    "    # Iterate over the sentences\n",
    "    for idx, sentence in enumerate(sentences):\n",
    "        # Pass each each sentence to the nlp object to create a document\n",
    "        #    print(idx)\n",
    "    \n",
    "        doc = nlp(sentence)\n",
    "        # Save the document's .vector attribute to the corresponding row in X\n",
    "        X[idx, :] =doc.vector[0:300]\n",
    "\n",
    "\n",
    "    print(X[0])\n"
   ]
  },
  {
   "cell_type": "code",
   "execution_count": 163,
   "metadata": {},
   "outputs": [],
   "source": [
    "sentences=[' i want to fly from boston at 838 am and arrive in denver at 1110 in the morning', ' what flights are available from pittsburgh to baltimore on thursday morning', ' what is the arrival time in san francisco for the 755 am flight leaving washington', ' cheapest airfare from tacoma to orlando', ' round trip fares from pittsburgh to philadelphia under 1000 dollars', ' i need a flight tomorrow from columbus to minneapolis', ' what kind of aircraft is used on a flight from cleveland to dallas', ' show me the flights from pittsburgh to los angeles on thursday', ' all flights from boston to washington', ' what kind of ground transportation is available in denver', ' show me the flights from dallas to san francisco', ' show me the flights from san diego to newark by way of houston', ' what is the cheapest flight from boston to bwi', ' all flights to baltimore after 6 pm', ' show me the first class fares from boston to denver', ' show me the ground transportation in denver', ' all flights from denver to pittsburgh leaving after 6 pm and before 7 pm', ' i need information on flights for tuesday leaving baltimore for dallas dallas to boston and boston to baltimore', ' please give me the flights from boston to pittsburgh on thursday of next week', ' i would like to fly from denver to pittsburgh on united airlines', ' show me the flights from san diego to newark', ' please list all first class flights on united from denver to baltimore', ' what kinds of planes are used by american airlines', \" i'd like to have some information on a ticket from denver to pittsburgh and atlanta\", \" i'd like to book a flight from atlanta to denver\", ' which airline serves denver pittsburgh and atlanta', \" show me all flights from boston to pittsburgh on wednesday of next week which leave boston after 2 o'clock pm\", ' atlanta ground transportation', ' i also need service from dallas to boston arriving by noon', ' show me the cheapest round trip fare from baltimore to dallas']\n",
    "#print(len(sentences))"
   ]
  },
  {
   "cell_type": "code",
   "execution_count": 164,
   "metadata": {},
   "outputs": [
    {
     "name": "stdout",
     "output_type": "stream",
     "text": [
      "[ 8.87206256e-01  1.02820814e-01  6.36497796e-01  1.85789716e+00\n",
      "  5.31324625e-01 -1.80086941e-01 -1.29339588e+00 -1.21644247e+00\n",
      "  7.12641776e-01  1.73559785e-01 -1.09132029e-01  1.87955406e-02\n",
      " -3.08092326e-01 -4.70913202e-02  3.02736312e-02 -6.07579708e-01\n",
      " -8.63289654e-01 -9.83212948e-01 -7.20831573e-01 -5.23419738e-01\n",
      " -5.13644218e-01 -5.31952083e-01 -1.32848158e-01  4.13865596e-01\n",
      " -8.93387854e-01 -6.41885936e-01 -5.96476495e-02  7.69155025e-01\n",
      " -3.91397387e-01 -6.05912626e-01 -6.05135322e-01  1.23661518e-01\n",
      "  1.94437318e-02  5.79255879e-01  5.11456132e-01  3.38367969e-01\n",
      "  1.39877927e+00  2.80866146e-01  7.29265988e-01 -2.39874437e-01\n",
      " -5.34239113e-01  1.47877014e+00  1.15942872e+00 -3.21602114e-02\n",
      " -8.72049153e-01  6.78520024e-01  2.87863106e-01  2.57394701e-01\n",
      "  1.26638579e+00  4.69351523e-02 -5.16646914e-02 -1.30071223e+00\n",
      " -8.40504229e-01  2.23318323e-01  1.22844410e+00  8.65369380e-01\n",
      "  9.90510941e-01  1.49749517e-01 -5.76945126e-01  4.42298383e-01\n",
      " -7.29834616e-01  4.57364142e-01 -1.13361013e+00 -2.16152161e-01\n",
      " -2.11495146e-01  3.26685458e-01 -9.98543561e-01 -1.60302386e-01\n",
      " -5.73955715e-01  8.32735777e-01  2.92448755e-02 -9.65622246e-01\n",
      " -4.95862722e-01  1.50745797e+00 -1.75104117e+00 -4.62864637e-01\n",
      "  2.19699189e-01  3.63889545e-01 -5.56644917e-01  5.91292977e-01\n",
      " -1.22413671e+00 -7.93294385e-02 -1.13528991e+00 -5.72923601e-01\n",
      " -2.19805866e-01 -3.25521260e-01 -3.49596560e-01  1.10897040e+00\n",
      "  3.52315903e-01  5.28886020e-01 -1.52060115e+00  1.78240263e+00\n",
      " -4.28797334e-01  1.42384338e+00 -1.21068418e+00  7.95632958e-01\n",
      " -1.78342843e+00  3.94627213e-01  8.48303959e-02 -1.68909514e+00\n",
      " -1.65280968e-01  5.97268581e-01  8.87053668e-01  3.23019624e-01\n",
      "  5.07679343e-01  1.12113461e-01 -6.46382630e-01 -1.04146957e+00\n",
      "  4.00242776e-01 -2.01825425e-01  1.27919781e+00  5.18629849e-01\n",
      "  1.11267412e+00  2.97690332e-01  6.94205046e-01  9.01778877e-01\n",
      " -1.48247436e-01  1.16804600e+00 -7.92164445e-01 -8.41370404e-01\n",
      "  2.75023460e-01  3.57168555e-01  3.23417485e-01  4.71180022e-01\n",
      "  5.80325603e-01 -4.72888857e-01 -1.58318341e-01 -1.34497416e+00\n",
      " -2.83778340e-01 -3.14050138e-01 -2.17652917e-01 -3.61981578e-02\n",
      " -7.71264881e-02 -1.37267588e-02 -1.71636432e-01  1.54063823e-02\n",
      "  5.58638275e-01 -2.18237653e-01 -1.57348663e-01 -1.64664447e-01\n",
      "  5.65325730e-02  4.95879464e-02  4.91935909e-02  2.30062664e-01\n",
      "  1.17564149e-01  1.66426569e-01 -1.77235395e-01 -1.12203509e-01\n",
      " -4.10244009e-03  2.31394898e-02 -1.75057143e-01  1.54689386e-01\n",
      "  5.75249679e-02 -6.11081496e-02 -7.95507655e-02 -1.83158845e-01\n",
      "  2.00584128e-01 -2.47517988e-01 -7.53372908e-02 -4.85828221e-02\n",
      "  2.45792791e-01  2.00902179e-01  2.12738588e-01 -3.27329151e-02\n",
      " -2.49294192e-02 -1.86590120e-01  1.06633149e-01  6.20713234e-02\n",
      "  7.15315714e-02  2.73285747e-01  3.28516327e-02 -8.43079463e-02\n",
      "  1.19290426e-01 -5.01552224e-01  6.57303929e-02  8.06351528e-02\n",
      " -1.46219999e-01  1.63526818e-01 -3.56228977e-01 -5.41000394e-03\n",
      "  1.72912374e-01  5.32548241e-02 -1.81990921e-01  1.21585585e-01\n",
      "  3.07252586e-01 -9.03697312e-02  8.88038799e-02 -1.65976003e-01\n",
      "  1.27238676e-01  2.96638131e-01  1.81885034e-01  1.57576039e-01\n",
      "  9.54243168e-02 -1.65509701e-01 -2.22543195e-01 -1.11713447e-01\n",
      " -1.83123440e-01  4.64788049e-01 -3.21378618e-01 -1.28308654e-01\n",
      "  1.77535638e-02  3.99968168e-03  1.28823444e-01 -9.56344530e-02\n",
      " -3.09569985e-02  1.32068560e-01  1.48112908e-01 -1.21147176e-02\n",
      " -4.29770976e-01 -9.68677551e-03 -9.21824649e-02  1.77850313e-02\n",
      " -2.17145849e-02 -1.19835429e-01 -3.70432109e-01 -3.44968326e-02\n",
      " -3.46082896e-02 -8.42503756e-02  1.47710030e-03 -3.55352908e-01\n",
      "  3.46421123e-01 -3.11435908e-02 -1.58749938e-01 -2.70554665e-02\n",
      " -6.94130361e-02  1.41888335e-01 -2.09611461e-01 -1.53003812e-01\n",
      "  2.42415875e-01  3.56023610e-01  3.70083332e-01  2.60785341e-01\n",
      " -5.10971993e-02 -1.15742110e-01 -6.60041198e-02 -5.95729612e-03\n",
      " -2.64354199e-02 -8.10304210e-02  5.10791838e-02 -1.25379533e-01\n",
      "  1.36924490e-01 -2.06705362e-01  1.28657252e-01 -7.99365193e-02\n",
      " -1.10637724e-01  4.07350183e-01  1.20971002e-01 -1.17679862e-02\n",
      "  3.93444151e-02 -1.88266602e-03  3.68412197e-01  2.87902355e-02\n",
      " -4.99621071e-02 -2.96481065e-02  2.88640678e-01  5.64769432e-02\n",
      " -6.62656948e-02 -8.49692151e-02  1.44997174e-02  9.09844413e-02\n",
      " -1.53653100e-01  1.04426192e-02 -8.41909051e-02  2.04781339e-01\n",
      "  1.18287988e-02 -1.77799404e-01 -1.29147977e-01 -2.12838426e-01\n",
      "  2.55667623e-02  9.60835740e-02 -1.56991050e-01  1.28365412e-01\n",
      "  1.97905526e-01 -1.91683825e-02 -5.03078699e-02 -8.90990421e-02\n",
      " -1.57043692e-02  1.62186012e-01  2.20949724e-01 -5.97570129e-02\n",
      " -8.87275711e-02  3.33524466e-01 -6.28301827e-03 -1.23572070e-02\n",
      " -4.36920896e-02 -3.38166468e-02 -1.31434396e-01 -3.81739140e-01\n",
      "  3.51046994e-02  8.85016397e-02  1.32962555e-01  1.88521482e-02\n",
      " -5.14702909e-02  1.14834182e-01  6.75879046e-02  1.23532407e-01\n",
      " -1.81287467e-01  2.10327879e-02 -1.17614783e-01 -2.26540387e-01]\n"
     ]
    }
   ],
   "source": [
    "set_data(sentences)"
   ]
  },
  {
   "cell_type": "code",
   "execution_count": null,
   "metadata": {},
   "outputs": [],
   "source": []
  },
  {
   "cell_type": "code",
   "execution_count": null,
   "metadata": {},
   "outputs": [],
   "source": []
  }
 ],
 "metadata": {
  "kernelspec": {
   "display_name": "Python 3",
   "language": "python",
   "name": "python3"
  },
  "language_info": {
   "codemirror_mode": {
    "name": "ipython",
    "version": 3
   },
   "file_extension": ".py",
   "mimetype": "text/x-python",
   "name": "python",
   "nbconvert_exporter": "python",
   "pygments_lexer": "ipython3",
   "version": "3.6.8"
  }
 },
 "nbformat": 4,
 "nbformat_minor": 2
}
